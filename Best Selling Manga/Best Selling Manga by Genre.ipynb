{
 "cells": [
  {
   "cell_type": "code",
   "execution_count": 1,
   "metadata": {},
   "outputs": [],
   "source": [
    "import pandas as pd\n",
    "import matplotlib.pyplot as plt\n",
    "import seaborn as sns\n",
    "import numpy as np"
   ]
  },
  {
   "cell_type": "code",
   "execution_count": 2,
   "metadata": {},
   "outputs": [],
   "source": [
    "df = pd.read_csv(\"best-selling-manga.csv\", encoding=\"latin-1\")"
   ]
  },
  {
   "cell_type": "code",
   "execution_count": 3,
   "metadata": {},
   "outputs": [
    {
     "data": {
      "text/html": [
       "<div>\n",
       "<style scoped>\n",
       "    .dataframe tbody tr th:only-of-type {\n",
       "        vertical-align: middle;\n",
       "    }\n",
       "\n",
       "    .dataframe tbody tr th {\n",
       "        vertical-align: top;\n",
       "    }\n",
       "\n",
       "    .dataframe thead th {\n",
       "        text-align: right;\n",
       "    }\n",
       "</style>\n",
       "<table border=\"1\" class=\"dataframe\">\n",
       "  <thead>\n",
       "    <tr style=\"text-align: right;\">\n",
       "      <th></th>\n",
       "      <th>ï»¿Manga series</th>\n",
       "      <th>Author(s)</th>\n",
       "      <th>Publisher</th>\n",
       "      <th>Demographic</th>\n",
       "      <th>No. of collected volumes</th>\n",
       "      <th>Serialized</th>\n",
       "      <th>Approximate sales in million(s)</th>\n",
       "      <th>Average sales per volume in million(s)</th>\n",
       "    </tr>\n",
       "  </thead>\n",
       "  <tbody>\n",
       "    <tr>\n",
       "      <th>0</th>\n",
       "      <td>One Piece</td>\n",
       "      <td>Eiichiro Oda</td>\n",
       "      <td>Shueisha</td>\n",
       "      <td>ShÅnen</td>\n",
       "      <td>104</td>\n",
       "      <td>1997âpresent</td>\n",
       "      <td>516.6</td>\n",
       "      <td>4.97</td>\n",
       "    </tr>\n",
       "    <tr>\n",
       "      <th>1</th>\n",
       "      <td>Golgo 13</td>\n",
       "      <td>Takao Saito, Saito Production</td>\n",
       "      <td>Shogakukan</td>\n",
       "      <td>Seinen</td>\n",
       "      <td>207</td>\n",
       "      <td>1968âpresent</td>\n",
       "      <td>300.0</td>\n",
       "      <td>1.45</td>\n",
       "    </tr>\n",
       "    <tr>\n",
       "      <th>2</th>\n",
       "      <td>Case Closed / Detective Conan</td>\n",
       "      <td>Gosho Aoyama</td>\n",
       "      <td>Shogakukan</td>\n",
       "      <td>ShÅnen</td>\n",
       "      <td>102</td>\n",
       "      <td>1994âpresent</td>\n",
       "      <td>270.0</td>\n",
       "      <td>2.65</td>\n",
       "    </tr>\n",
       "    <tr>\n",
       "      <th>3</th>\n",
       "      <td>Dragon Ball</td>\n",
       "      <td>Akira Toriyama</td>\n",
       "      <td>Shueisha</td>\n",
       "      <td>ShÅnen</td>\n",
       "      <td>42</td>\n",
       "      <td>1984â1995</td>\n",
       "      <td>260.0</td>\n",
       "      <td>6.19</td>\n",
       "    </tr>\n",
       "    <tr>\n",
       "      <th>4</th>\n",
       "      <td>Doraemon</td>\n",
       "      <td>Fujiko F. Fujio</td>\n",
       "      <td>Shogakukan</td>\n",
       "      <td>Children</td>\n",
       "      <td>45</td>\n",
       "      <td>1969â1996</td>\n",
       "      <td>250.0</td>\n",
       "      <td>4.71</td>\n",
       "    </tr>\n",
       "  </tbody>\n",
       "</table>\n",
       "</div>"
      ],
      "text/plain": [
       "                 ï»¿Manga series                      Author(s)   Publisher  \\\n",
       "0                      One Piece                   Eiichiro Oda    Shueisha   \n",
       "1                       Golgo 13  Takao Saito, Saito Production  Shogakukan   \n",
       "2  Case Closed / Detective Conan                   Gosho Aoyama  Shogakukan   \n",
       "3                    Dragon Ball                 Akira Toriyama    Shueisha   \n",
       "4                       Doraemon                Fujiko F. Fujio  Shogakukan   \n",
       "\n",
       "  Demographic  No. of collected volumes      Serialized  \\\n",
       "0     ShÅnen                       104  1997âpresent   \n",
       "1      Seinen                       207  1968âpresent   \n",
       "2     ShÅnen                       102  1994âpresent   \n",
       "3     ShÅnen                        42     1984â1995   \n",
       "4    Children                        45     1969â1996   \n",
       "\n",
       "   Approximate sales in million(s)  Average sales per volume in million(s)  \n",
       "0                            516.6                                    4.97  \n",
       "1                            300.0                                    1.45  \n",
       "2                            270.0                                    2.65  \n",
       "3                            260.0                                    6.19  \n",
       "4                            250.0                                    4.71  "
      ]
     },
     "execution_count": 3,
     "metadata": {},
     "output_type": "execute_result"
    }
   ],
   "source": [
    "df.head()"
   ]
  },
  {
   "cell_type": "code",
   "execution_count": 4,
   "metadata": {},
   "outputs": [
    {
     "data": {
      "text/plain": [
       "ï»¿Manga series                           False\n",
       "Author(s)                                 False\n",
       "Publisher                                 False\n",
       "Demographic                               False\n",
       "No. of collected volumes                  False\n",
       "Serialized                                False\n",
       "Approximate sales in million(s)           False\n",
       "Average sales per volume in million(s)    False\n",
       "dtype: bool"
      ]
     },
     "execution_count": 4,
     "metadata": {},
     "output_type": "execute_result"
    }
   ],
   "source": [
    "df.isnull().any()"
   ]
  },
  {
   "cell_type": "code",
   "execution_count": 15,
   "metadata": {},
   "outputs": [
    {
     "data": {
      "text/plain": [
       "Shounen     108\n",
       "Seinen       50\n",
       "Shoujo       22\n",
       "Children      4\n",
       "Josei         2\n",
       "â           1\n",
       "Name: Demographic, dtype: int64"
      ]
     },
     "execution_count": 15,
     "metadata": {},
     "output_type": "execute_result"
    }
   ],
   "source": [
    "genre_counts = df['Demographic'].value_counts()\n",
    "genre_counts"
   ]
  },
  {
   "cell_type": "code",
   "execution_count": 18,
   "metadata": {},
   "outputs": [
    {
     "data": {
      "text/html": [
       "<div>\n",
       "<style scoped>\n",
       "    .dataframe tbody tr th:only-of-type {\n",
       "        vertical-align: middle;\n",
       "    }\n",
       "\n",
       "    .dataframe tbody tr th {\n",
       "        vertical-align: top;\n",
       "    }\n",
       "\n",
       "    .dataframe thead th {\n",
       "        text-align: right;\n",
       "    }\n",
       "</style>\n",
       "<table border=\"1\" class=\"dataframe\">\n",
       "  <thead>\n",
       "    <tr style=\"text-align: right;\">\n",
       "      <th></th>\n",
       "      <th>ï»¿Manga series</th>\n",
       "      <th>Author(s)</th>\n",
       "      <th>Publisher</th>\n",
       "      <th>Demographic</th>\n",
       "      <th>No. of collected volumes</th>\n",
       "      <th>Serialized</th>\n",
       "      <th>Approximate sales in million(s)</th>\n",
       "      <th>Average sales per volume in million(s)</th>\n",
       "    </tr>\n",
       "  </thead>\n",
       "  <tbody>\n",
       "  </tbody>\n",
       "</table>\n",
       "</div>"
      ],
      "text/plain": [
       "Empty DataFrame\n",
       "Columns: [ï»¿Manga series, Author(s), Publisher, Demographic, No. of collected volumes, Serialized, Approximate sales in million(s), Average sales per volume in million(s)]\n",
       "Index: []"
      ]
     },
     "execution_count": 18,
     "metadata": {},
     "output_type": "execute_result"
    }
   ],
   "source": [
    "weird_genre = df[df['Demographic']=='â']\n",
    "weird_genre"
   ]
  },
  {
   "cell_type": "code",
   "execution_count": 17,
   "metadata": {},
   "outputs": [],
   "source": [
    "df['Demographic'] = df['Demographic'].replace('ShÅjo/Josei', 'Shoujo')"
   ]
  },
  {
   "cell_type": "code",
   "execution_count": 77,
   "metadata": {},
   "outputs": [],
   "source": [
    "df['Demographic'] = df['Demographic'].str.split('/')\n",
    "df = df.explode('Demographic')"
   ]
  },
  {
   "cell_type": "code",
   "execution_count": 19,
   "metadata": {},
   "outputs": [
    {
     "data": {
      "text/plain": [
       "Shueisha                                         65\n",
       "Kodansha                                         50\n",
       "Shogakukan                                       32\n",
       "Akita Shoten                                     11\n",
       "Hakusensha                                        7\n",
       "Nihon Bungeisha                                   3\n",
       "Square Enix                                       2\n",
       "Kadokawa Shoten                                   2\n",
       "ShÅnen GahÅsha                                  2\n",
       "Futabasha                                         2\n",
       "Shueisha/Shogakukan/Leed                          1\n",
       "Shueisha/Kodansha                                 1\n",
       "Enix                                              1\n",
       "Square Enix, Ichijinsha                           1\n",
       "Ushio Shuppan                                     1\n",
       "Enix (2001â2003), Square Enix (2003â2010)     1\n",
       "Kobunsha                                          1\n",
       "Ushio Shuppansha                                  1\n",
       "Jitsugyo no Nihon Sha                             1\n",
       "Shinchosha, Tokuma Shoten                         1\n",
       "Gakken                                            1\n",
       "Name: Publisher, dtype: int64"
      ]
     },
     "execution_count": 19,
     "metadata": {},
     "output_type": "execute_result"
    }
   ],
   "source": [
    "publisher_count = df['Publisher'].value_counts()\n",
    "publisher_count"
   ]
  },
  {
   "cell_type": "code",
   "execution_count": 107,
   "metadata": {},
   "outputs": [
    {
     "data": {
      "text/html": [
       "<div>\n",
       "<style scoped>\n",
       "    .dataframe tbody tr th:only-of-type {\n",
       "        vertical-align: middle;\n",
       "    }\n",
       "\n",
       "    .dataframe tbody tr th {\n",
       "        vertical-align: top;\n",
       "    }\n",
       "\n",
       "    .dataframe thead th {\n",
       "        text-align: right;\n",
       "    }\n",
       "</style>\n",
       "<table border=\"1\" class=\"dataframe\">\n",
       "  <thead>\n",
       "    <tr style=\"text-align: right;\">\n",
       "      <th></th>\n",
       "      <th>ï»¿Manga series</th>\n",
       "      <th>Author(s)</th>\n",
       "      <th>Publisher</th>\n",
       "      <th>Demographic</th>\n",
       "      <th>No. of collected volumes</th>\n",
       "      <th>Serialized</th>\n",
       "      <th>Approximate sales in million(s)</th>\n",
       "      <th>Average sales per volume in million(s)</th>\n",
       "    </tr>\n",
       "  </thead>\n",
       "  <tbody>\n",
       "  </tbody>\n",
       "</table>\n",
       "</div>"
      ],
      "text/plain": [
       "Empty DataFrame\n",
       "Columns: [ï»¿Manga series, Author(s), Publisher, Demographic, No. of collected volumes, Serialized, Approximate sales in million(s), Average sales per volume in million(s)]\n",
       "Index: []"
      ]
     },
     "execution_count": 107,
     "metadata": {},
     "output_type": "execute_result"
    }
   ],
   "source": [
    "weird_publisher = df[df['Publisher']=='Enix (2001â2003), Square Enix (2003â2010)']\n",
    "weird_publisher"
   ]
  },
  {
   "cell_type": "code",
   "execution_count": 106,
   "metadata": {},
   "outputs": [],
   "source": [
    "df['Publisher'] = df['Publisher'].str.split(', ')\n",
    "df = df.explode('Publisher')"
   ]
  },
  {
   "cell_type": "code",
   "execution_count": 110,
   "metadata": {},
   "outputs": [],
   "source": [
    "replacer = {'Enix (2001â2003)': 'Enix', 'Square Enix (2003â2010)': 'Square Enix'}\n",
    "df['Publisher'] = df['Publisher'].replace(replacer)"
   ]
  },
  {
   "cell_type": "code",
   "execution_count": 141,
   "metadata": {},
   "outputs": [],
   "source": [
    "df.rename(columns={'ï»¿Manga series': 'Manga Series'}, inplace=True)"
   ]
  },
  {
   "cell_type": "code",
   "execution_count": 150,
   "metadata": {
    "scrolled": true
   },
   "outputs": [
    {
     "data": {
      "text/html": [
       "<div>\n",
       "<style scoped>\n",
       "    .dataframe tbody tr th:only-of-type {\n",
       "        vertical-align: middle;\n",
       "    }\n",
       "\n",
       "    .dataframe tbody tr th {\n",
       "        vertical-align: top;\n",
       "    }\n",
       "\n",
       "    .dataframe thead th {\n",
       "        text-align: right;\n",
       "    }\n",
       "</style>\n",
       "<table border=\"1\" class=\"dataframe\">\n",
       "  <thead>\n",
       "    <tr style=\"text-align: right;\">\n",
       "      <th></th>\n",
       "      <th>No. of collected volumes</th>\n",
       "      <th>Approximate sales in million(s)</th>\n",
       "      <th>Average sales per volume in million(s)</th>\n",
       "    </tr>\n",
       "  </thead>\n",
       "  <tbody>\n",
       "    <tr>\n",
       "      <th>count</th>\n",
       "      <td>193.000000</td>\n",
       "      <td>193.000000</td>\n",
       "      <td>193.000000</td>\n",
       "    </tr>\n",
       "    <tr>\n",
       "      <th>mean</th>\n",
       "      <td>45.917098</td>\n",
       "      <td>50.263886</td>\n",
       "      <td>1.367202</td>\n",
       "    </tr>\n",
       "    <tr>\n",
       "      <th>std</th>\n",
       "      <td>34.217189</td>\n",
       "      <td>56.471075</td>\n",
       "      <td>1.232318</td>\n",
       "    </tr>\n",
       "    <tr>\n",
       "      <th>min</th>\n",
       "      <td>5.000000</td>\n",
       "      <td>20.000000</td>\n",
       "      <td>0.190000</td>\n",
       "    </tr>\n",
       "    <tr>\n",
       "      <th>25%</th>\n",
       "      <td>24.000000</td>\n",
       "      <td>24.000000</td>\n",
       "      <td>0.640000</td>\n",
       "    </tr>\n",
       "    <tr>\n",
       "      <th>50%</th>\n",
       "      <td>34.000000</td>\n",
       "      <td>30.000000</td>\n",
       "      <td>1.030000</td>\n",
       "    </tr>\n",
       "    <tr>\n",
       "      <th>75%</th>\n",
       "      <td>55.000000</td>\n",
       "      <td>50.000000</td>\n",
       "      <td>1.640000</td>\n",
       "    </tr>\n",
       "    <tr>\n",
       "      <th>max</th>\n",
       "      <td>207.000000</td>\n",
       "      <td>516.600000</td>\n",
       "      <td>10.000000</td>\n",
       "    </tr>\n",
       "  </tbody>\n",
       "</table>\n",
       "</div>"
      ],
      "text/plain": [
       "       No. of collected volumes  Approximate sales in million(s)  \\\n",
       "count                193.000000                       193.000000   \n",
       "mean                  45.917098                        50.263886   \n",
       "std                   34.217189                        56.471075   \n",
       "min                    5.000000                        20.000000   \n",
       "25%                   24.000000                        24.000000   \n",
       "50%                   34.000000                        30.000000   \n",
       "75%                   55.000000                        50.000000   \n",
       "max                  207.000000                       516.600000   \n",
       "\n",
       "       Average sales per volume in million(s)  \n",
       "count                              193.000000  \n",
       "mean                                 1.367202  \n",
       "std                                  1.232318  \n",
       "min                                  0.190000  \n",
       "25%                                  0.640000  \n",
       "50%                                  1.030000  \n",
       "75%                                  1.640000  \n",
       "max                                 10.000000  "
      ]
     },
     "execution_count": 150,
     "metadata": {},
     "output_type": "execute_result"
    }
   ],
   "source": [
    "df.describe()"
   ]
  },
  {
   "cell_type": "code",
   "execution_count": 163,
   "metadata": {},
   "outputs": [
    {
     "name": "stdout",
     "output_type": "stream",
     "text": [
      "Average sales shounen =  1.58927927927928 \n",
      "\n",
      "Average sales seinen =  0.9360377358490568 \n",
      "\n",
      "Average sales shoujo =  1.249090909090909 \n",
      "\n",
      "Average sales josei =  1.125 \n",
      "\n",
      "Average sales children =  1.5525 \n",
      "\n"
     ]
    }
   ],
   "source": [
    "#Average sales for each genres\n",
    "shounen_average_sales = df[df['Demographic']=='Shounen']['Average sales per volume in million(s)'].mean()\n",
    "seinen_average_sales = df[df['Demographic']=='Seinen']['Average sales per volume in million(s)'].mean()\n",
    "shoujo_average_sales = df[df['Demographic']=='Shoujo']['Average sales per volume in million(s)'].mean()\n",
    "children_average_sales = df[df['Demographic']=='Children']['Average sales per volume in million(s)'].mean()\n",
    "josei_average_sales = df[df['Demographic']=='Josei']['Average sales per volume in million(s)'].mean()\n",
    "\n",
    "print(\"Average sales shounen = \", shounen_average_sales, \"\\n\")\n",
    "print(\"Average sales seinen = \", seinen_average_sales, \"\\n\")\n",
    "print(\"Average sales shoujo = \", shoujo_average_sales, \"\\n\")\n",
    "print(\"Average sales josei = \", josei_average_sales, \"\\n\")\n",
    "print(\"Average sales children = \", children_average_sales, \"\\n\")"
   ]
  },
  {
   "cell_type": "code",
   "execution_count": 166,
   "metadata": {},
   "outputs": [
    {
     "name": "stdout",
     "output_type": "stream",
     "text": [
      "Shounen Sales 6489.3 \n",
      "\n",
      "Seinen Sales 2056.33 \n",
      "\n",
      "Shoujo Sales 681.1 \n",
      "\n",
      "Josei Sales 67.0 \n",
      "\n",
      "Children Sales 321.2 \n",
      "\n"
     ]
    }
   ],
   "source": [
    "shounen_sales = df[df['Demographic']=='Shounen']['Approximate sales in million(s)'].sum()\n",
    "seinen_sales = df[df['Demographic']=='Seinen']['Approximate sales in million(s)'].sum()\n",
    "shoujo_sales = df[df['Demographic']=='Shoujo']['Approximate sales in million(s)'].sum()\n",
    "josei_sales = df[df['Demographic']=='Josei']['Approximate sales in million(s)'].sum()\n",
    "children_sales = df[df['Demographic']=='Children']['Approximate sales in million(s)'].sum()\n",
    "\n",
    "print(\"Shounen Sales\", shounen_sales, \"\\n\")\n",
    "print(\"Seinen Sales\", seinen_sales, \"\\n\")\n",
    "print(\"Shoujo Sales\", shoujo_sales, \"\\n\")\n",
    "print(\"Josei Sales\", josei_sales, \"\\n\")\n",
    "print(\"Children Sales\", children_sales, \"\\n\")"
   ]
  },
  {
   "cell_type": "code",
   "execution_count": 167,
   "metadata": {},
   "outputs": [
    {
     "data": {
      "text/html": [
       "<div>\n",
       "<style scoped>\n",
       "    .dataframe tbody tr th:only-of-type {\n",
       "        vertical-align: middle;\n",
       "    }\n",
       "\n",
       "    .dataframe tbody tr th {\n",
       "        vertical-align: top;\n",
       "    }\n",
       "\n",
       "    .dataframe thead th {\n",
       "        text-align: right;\n",
       "    }\n",
       "</style>\n",
       "<table border=\"1\" class=\"dataframe\">\n",
       "  <thead>\n",
       "    <tr style=\"text-align: right;\">\n",
       "      <th></th>\n",
       "      <th>Genre</th>\n",
       "      <th>Sales</th>\n",
       "    </tr>\n",
       "  </thead>\n",
       "  <tbody>\n",
       "    <tr>\n",
       "      <th>0</th>\n",
       "      <td>Shounen</td>\n",
       "      <td>6489.30</td>\n",
       "    </tr>\n",
       "    <tr>\n",
       "      <th>1</th>\n",
       "      <td>Seinen</td>\n",
       "      <td>2056.33</td>\n",
       "    </tr>\n",
       "    <tr>\n",
       "      <th>2</th>\n",
       "      <td>Shoujo</td>\n",
       "      <td>681.10</td>\n",
       "    </tr>\n",
       "    <tr>\n",
       "      <th>3</th>\n",
       "      <td>Josei</td>\n",
       "      <td>67.00</td>\n",
       "    </tr>\n",
       "    <tr>\n",
       "      <th>4</th>\n",
       "      <td>Children</td>\n",
       "      <td>321.20</td>\n",
       "    </tr>\n",
       "  </tbody>\n",
       "</table>\n",
       "</div>"
      ],
      "text/plain": [
       "      Genre    Sales\n",
       "0   Shounen  6489.30\n",
       "1    Seinen  2056.33\n",
       "2    Shoujo   681.10\n",
       "3     Josei    67.00\n",
       "4  Children   321.20"
      ]
     },
     "execution_count": 167,
     "metadata": {},
     "output_type": "execute_result"
    }
   ],
   "source": [
    "genres = {\n",
    "    'Genre': ['Shounen', 'Seinen', 'Shoujo', 'Josei', 'Children'],\n",
    "    'Sales': [6489.3, 2056.33, 681.1, 67.0, 321.2]\n",
    "}\n",
    "\n",
    "genre_df = pd.DataFrame(genres)\n",
    "genre_df"
   ]
  },
  {
   "cell_type": "code",
   "execution_count": 168,
   "metadata": {},
   "outputs": [
    {
     "data": {
      "image/png": "[encoded data removed]",
      "text/plain": [
       "<Figure size 432x288 with 1 Axes>"
      ]
     },
     "metadata": {
      "needs_background": "light"
     },
     "output_type": "display_data"
    }
   ],
   "source": [
    "plt.bar(genre_df['Genre'], genre_df['Sales'])\n",
    "plt.xlabel('Genre')\n",
    "plt.ylabel('Approximate sales by Million')\n",
    "plt.title('Approximate sales by Genre')\n",
    "plt.show()"
   ]
  },
  {
   "cell_type": "code",
   "execution_count": null,
   "metadata": {},
   "outputs": [],
   "source": []
  }
 ],
 "metadata": {
  "kernelspec": {
   "display_name": "Python 3",
   "language": "python",
   "name": "python3"
  },
  "language_info": {
   "codemirror_mode": {
    "name": "ipython",
    "version": 3
   },
   "file_extension": ".py",
   "mimetype": "text/x-python",
   "name": "python",
   "nbconvert_exporter": "python",
   "pygments_lexer": "ipython3",
   "version": "3.8.5"
  }
 },
 "nbformat": 4,
 "nbformat_minor": 4
}
